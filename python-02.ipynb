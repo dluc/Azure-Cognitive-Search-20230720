{
 "cells": [
  {
   "cell_type": "code",
   "execution_count": null,
   "metadata": {},
   "outputs": [],
   "source": [
    "!python -m pip install semantic-kernel==0.3.4.dev0\n",
    "!python -m pip install python-dotenv==1.0.0"
   ]
  },
  {
   "cell_type": "markdown",
   "metadata": {},
   "source": [
    "## Load settings from .env file"
   ]
  },
  {
   "cell_type": "code",
   "execution_count": 2,
   "metadata": {
    "dotnet_interactive": {
     "language": "csharp"
    },
    "polyglot_notebook": {
     "kernelName": "csharp"
    }
   },
   "outputs": [],
   "source": [
    "import os\n",
    "from dotenv import load_dotenv\n",
    "if not load_dotenv(): raise Exception(\".env file not found\")"
   ]
  },
  {
   "cell_type": "markdown",
   "metadata": {},
   "source": [
    "## Prepare kernel using Azure Cognitive Search"
   ]
  },
  {
   "cell_type": "code",
   "execution_count": 3,
   "metadata": {},
   "outputs": [],
   "source": [
    "from semantic_kernel import Kernel\n",
    "from semantic_kernel.connectors.ai.open_ai import AzureTextEmbedding\n",
    "from semantic_kernel.connectors.memory.azure_cognitive_search import AzureCognitiveSearchMemoryStore\n",
    "\n",
    "kernel = Kernel()\n",
    "\n",
    "kernel.add_text_embedding_generation_service(\n",
    "    \"ada\",\n",
    "    AzureTextEmbedding(\n",
    "        os.getenv(\"AZURE_OPENAI_EMBEDDING_MODEL\"),\n",
    "        os.getenv(\"AZURE_OPENAI_ENDPOINT\"),\n",
    "        os.getenv(\"AZURE_OPENAI_API_KEY\"),\n",
    "    ),\n",
    ")\n",
    "\n",
    "kernel.register_memory_store(\n",
    "    memory_store=AzureCognitiveSearchMemoryStore(\n",
    "        1536, os.getenv(\"AZURE_SEARCH_ENDPOINT\"), os.getenv(\"AZURE_SEARCH_API_KEY\")\n",
    "    )\n",
    ")"
   ]
  },
  {
   "cell_type": "markdown",
   "metadata": {},
   "source": [
    "## Search memories using Vector Search"
   ]
  },
  {
   "cell_type": "code",
   "execution_count": 4,
   "metadata": {},
   "outputs": [
    {
     "name": "stdout",
     "output_type": "stream",
     "text": [
      "what's my name?\n",
      "\n",
      "   My name is Andrea\n",
      "   Relevance: 0.8291672\n",
      "\n",
      "   My family is from New York\n",
      "   Relevance: 0.7811505\n",
      "\n"
     ]
    }
   ],
   "source": [
    "query = \"what's my name?\"\n",
    "print(query + \"\\n\")\n",
    "\n",
    "results = await kernel.memory.search_async(\"aboutMeUser002\", query, limit = 2)\n",
    "for result in results:\n",
    "    print(\"   \" + result.text)\n",
    "    print(f\"   Relevance: {result.relevance}\\n\")"
   ]
  },
  {
   "cell_type": "code",
   "execution_count": 5,
   "metadata": {},
   "outputs": [
    {
     "name": "stdout",
     "output_type": "stream",
     "text": [
      "what do I do for work?\n",
      "\n",
      "   I currently work as a tour guide\n",
      "   Relevance: 0.8516814\n",
      "\n",
      "   My name is Andrea\n",
      "   Relevance: 0.80117613\n",
      "\n"
     ]
    }
   ],
   "source": [
    "query = \"what do I do for work?\"\n",
    "print(query + \"\\n\")\n",
    "\n",
    "results = await kernel.memory.search_async(\"aboutMeUser002\", query, limit = 2)\n",
    "for result in results:\n",
    "    print(\"   \" + result.text)\n",
    "    print(f\"   Relevance: {result.relevance}\\n\")"
   ]
  }
 ],
 "metadata": {
  "kernelspec": {
   "display_name": "pyenv-3.11.4",
   "language": "python",
   "name": "python3"
  },
  "language_info": {
   "codemirror_mode": {
    "name": "ipython",
    "version": 3
   },
   "file_extension": ".py",
   "mimetype": "text/x-python",
   "name": "python",
   "nbconvert_exporter": "python",
   "pygments_lexer": "ipython3",
   "version": "3.11.4"
  },
  "polyglot_notebook": {
   "kernelInfo": {
    "defaultKernelName": "csharp",
    "items": [
     {
      "aliases": [],
      "languageName": "csharp",
      "name": "csharp"
     }
    ]
   }
  }
 },
 "nbformat": 4,
 "nbformat_minor": 2
}
